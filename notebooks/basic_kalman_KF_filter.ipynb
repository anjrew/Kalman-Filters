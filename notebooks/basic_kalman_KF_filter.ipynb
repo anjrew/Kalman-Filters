{
 "cells": [
  {
   "cell_type": "markdown",
   "metadata": {},
   "source": [
    "# Basic KF Kalman filter\n",
    "\n",
    "In this notebook, we'll implement a basic Kalman Filter for a one-dimensional constant velocity model. We'll estimate the position and velocity of an object moving along a straight line given noisy position measurements.\n",
    "\n",
    "The Kalman Filter is an optimal recursive data processing algorithm. It estimates the state of a dynamic system from a series of incomplete and noisy measurements."
   ]
  },
  {
   "cell_type": "code",
   "execution_count": 2,
   "metadata": {},
   "outputs": [],
   "source": [
    "import numpy as np\n",
    "import matplotlib.pyplot as plt\n"
   ]
  },
  {
   "cell_type": "code",
   "execution_count": 3,
   "metadata": {},
   "outputs": [
    {
     "data": {
      "text/plain": [
       "array([ 0.,  1.,  2.,  3.,  4.,  5.,  6.,  7.,  8.,  9., 10., 11., 12.,\n",
       "       13., 14., 15., 16., 17., 18., 19., 20.])"
      ]
     },
     "execution_count": 3,
     "metadata": {},
     "output_type": "execute_result"
    }
   ],
   "source": [
    "#  Simulation Parameters\n",
    "dt = 1.0          # Time step (seconds)\n",
    "t = np.arange(0, 20 + dt, dt)  # Time vector from 0 to 20 seconds\n",
    "t"
   ]
  },
  {
   "cell_type": "code",
   "execution_count": 5,
   "metadata": {},
   "outputs": [
    {
     "data": {
      "text/plain": [
       "array([ 0.,  1.,  2.,  3.,  4.,  5.,  6.,  7.,  8.,  9., 10., 11., 12.,\n",
       "       13., 14., 15., 16., 17., 18., 19., 20.])"
      ]
     },
     "execution_count": 5,
     "metadata": {},
     "output_type": "execute_result"
    }
   ],
   "source": [
    "# Ground Truth\n",
    "# True initial position and velocity\n",
    "true_position = 0.0      # meters\n",
    "true_velocity = 1.0      # meters/second\n",
    "\n",
    "# Generate true position data\n",
    "true_positions = true_position + true_velocity * t\n",
    "true_positions"
   ]
  },
  {
   "cell_type": "code",
   "execution_count": 7,
   "metadata": {},
   "outputs": [
    {
     "data": {
      "text/plain": [
       "array([-1.00383474,  0.5885241 ,  0.9130795 ,  2.17506496,  6.04220753,\n",
       "        5.32491572,  6.16190117,  7.23719859,  7.80397443, 10.10490933,\n",
       "        9.46401587,  9.98219217, 11.40886643, 15.62755136, 15.08053681,\n",
       "       13.75314478, 16.48039285, 17.97014763, 20.6962635 , 18.11247943,\n",
       "       19.44683793])"
      ]
     },
     "execution_count": 7,
     "metadata": {},
     "output_type": "execute_result"
    }
   ],
   "source": [
    "# Noisy Measurements\n",
    "# Measurement noise standard deviation\n",
    "measurement_noise_std = 2.0  # meters\n",
    "\n",
    "# Generate noisy measurements\n",
    "measurements = true_positions + np.random.normal(0, measurement_noise_std, size=t.shape)\n",
    "measurements\n"
   ]
  },
  {
   "cell_type": "markdown",
   "metadata": {},
   "source": [
    "## Kalman Filter Parameters"
   ]
  },
  {
   "cell_type": "code",
   "execution_count": 9,
   "metadata": {},
   "outputs": [],
   "source": [
    "# State transition matrix\n",
    "A = np.array([[1, dt],\n",
    "              [0, 1]])\n",
    "\n",
    "# Observation matrix\n",
    "H = np.array([[1, 0]])\n",
    "\n",
    "# Process noise covariance matrix\n",
    "process_noise_std = 1e-5\n",
    "Q = process_noise_std * np.array([[dt**4/4, dt**3/2],\n",
    "                                  [dt**3/2, dt**2]])\n",
    "\n",
    "# Measurement noise covariance\n",
    "R = np.array([[measurement_noise_std**2]])\n",
    "\n",
    "# Initial state estimate\n",
    "x_est = np.array([[0],\n",
    "                  [0]])  # Start with zero position and velocity\n",
    "\n",
    "# Initial covariance estimate\n",
    "P = np.eye(2) * 500  # Large initial uncertainty\n"
   ]
  },
  {
   "cell_type": "markdown",
   "metadata": {},
   "source": [
    "## Storage for estimates"
   ]
  },
  {
   "cell_type": "code",
   "execution_count": null,
   "metadata": {},
   "outputs": [],
   "source": [
    "# Lists to store estimates\n",
    "estimated_positions = []\n",
    "estimated_velocities = []\n",
    "position_uncertainties = []\n",
    "velocity_uncertainties = []\n"
   ]
  },
  {
   "cell_type": "markdown",
   "metadata": {},
   "source": [
    "## Kalman Filter Algorithm"
   ]
  },
  {
   "cell_type": "markdown",
   "metadata": {},
   "source": [
    "for idx in range(len(t)):\n",
    "    # Prediction Step\n",
    "    x_pred = A @ x_est\n",
    "    P_pred = A @ P @ A.T + Q\n",
    "\n",
    "    # Measurement Update Step\n",
    "    z = measurements[idx]\n",
    "    y = z - (H @ x_pred)  # Measurement residual\n",
    "    S = H @ P_pred @ H.T + R  # Residual covariance\n",
    "    K = P_pred @ H.T @ np.linalg.inv(S)  # Kalman gain\n",
    "\n",
    "    x_est = x_pred + K @ y\n",
    "    P = (np.eye(2) - K @ H) @ P_pred\n",
    "\n",
    "    # Store estimates and uncertainties\n",
    "    estimated_positions.append(x_est[0, 0])\n",
    "    estimated_velocities.append(x_est[1, 0])\n",
    "    position_uncertainties.append(P[0, 0])\n",
    "    velocity_uncertainties.append(P[1, 1])\n"
   ]
  }
 ],
 "metadata": {
  "kernelspec": {
   "display_name": "Python 3",
   "language": "python",
   "name": "python3"
  },
  "language_info": {
   "codemirror_mode": {
    "name": "ipython",
    "version": 3
   },
   "file_extension": ".py",
   "mimetype": "text/x-python",
   "name": "python",
   "nbconvert_exporter": "python",
   "pygments_lexer": "ipython3",
   "version": "3.12.6"
  }
 },
 "nbformat": 4,
 "nbformat_minor": 2
}
